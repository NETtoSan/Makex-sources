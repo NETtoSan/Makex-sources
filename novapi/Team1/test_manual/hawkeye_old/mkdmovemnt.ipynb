{
 "cells": [
  {
   "cell_type": "code",
   "execution_count": null,
   "metadata": {},
   "outputs": [],
   "source": [
    "global auto_stage\n",
    "        global vl\n",
    "        Lx = gamepad.get_joystick(\"Lx\")  # literally Lx variable\n",
    "        Fl = 0   # Front left\n",
    "        Fr = 0   # Front right\n",
    "        Rl = 0   # Rear left\n",
    "        Rr = 0   # Rear right\n",
    "\n",
    "        \n",
    "        Fl = Lx\n",
    "        Fr = Lx\n",
    "        Rl = Lx\n",
    "        Rr = Lx\n",
    "\n",
    "        EFl = vl * (gamepad.get_joystick(\"Ly\") - Rl\n",
    "                    - gamepad.get_joystick(\"Rx\"))\n",
    "        EFr = -vl * (gamepad.get_joystick(\"Ly\") + Rr\n",
    "                     + gamepad.get_joystick(\"Rx\"))\n",
    "        ERl = vl * (gamepad.get_joystick(\"Ly\")\n",
    "                    + Fl - gamepad.get_joystick(\"Rx\"))\n",
    "        ERr = -vl * (gamepad.get_joystick(\"Ly\") - Fr\n",
    "                     + gamepad.get_joystick(\"Rx\"))\n",
    "\n",
    "        if invert == 1:\n",
    "            # If the controls are inverted The arms are now the bot's front\n",
    "            EFr = vl * (gamepad.get_joystick(\"Ly\")\n",
    "                        - Fl - gamepad.get_joystick(\"Rx\"))\n",
    "            EFl = -vl * (gamepad.get_joystick(\"Ly\") + Fr\n",
    "                         + gamepad.get_joystick(\"Rx\"))\n",
    "            ERr = vl * (gamepad.get_joystick(\"Ly\") + Rl\n",
    "                        - gamepad.get_joystick(\"Rx\"))\n",
    "            ERl = -vl * (gamepad.get_joystick(\"Ly\") - Rr\n",
    "                         + gamepad.get_joystick(\"Rx\"))\n",
    "        encoder_motor_M1.set_power(EFl)\n",
    "        encoder_motor_M2.set_power(EFr)\n",
    "        encoder_motor_M3.set_power(ERl)\n",
    "        encoder_motor_M4.set_power(ERr)"
   ]
  },
  {
   "cell_type": "markdown",
   "metadata": {},
   "source": [
    "^ **previously written movement code**"
   ]
  }
 ],
 "metadata": {
  "kernelspec": {
   "display_name": "Python 3.10.8 64-bit (microsoft store)",
   "language": "python",
   "name": "python3"
  },
  "language_info": {
   "name": "python",
   "version": "3.10.9 (tags/v3.10.9:1dd9be6, Dec  6 2022, 20:01:21) [MSC v.1934 64 bit (AMD64)]"
  },
  "orig_nbformat": 4,
  "vscode": {
   "interpreter": {
    "hash": "82cf7108cd554e615d03e337c492ced809a806d6b19e3bc1260804fd8f414a3c"
   }
  }
 },
 "nbformat": 4,
 "nbformat_minor": 2
}
