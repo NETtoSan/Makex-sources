{
 "cells": [
  {
   "cell_type": "code",
   "execution_count": null,
   "metadata": {
    "tags": [
     "autocube"
    ]
   },
   "outputs": [],
   "source": [
    "    def GrabCubeDemo():\n",
    "        dual_rgb_sensor_1.set_led_color(\"green\")\n",
    "        time.sleep(1)\n",
    "\n",
    "        # TO THE CENTER\n",
    "        AutoAssets.RotateLeft()\n",
    "        time.sleep(1) #Rotate bot from the start\n",
    "        AutoAssets.MoveForward()\n",
    "        time.sleep(2) #Walk to the middle\n",
    "        AutoAssets.MoveRight()\n",
    "        time.sleep(1) #Rotate to the right to face directly at the cube\n",
    "        AutoAssets.StopMoving()\n",
    "\n",
    "        # GRABING THE CUBE\n",
    "        AutoAssets.MoveForward()\n",
    "        time.sleep(2)\n",
    "        AutoAssets.StopMoving()\n",
    "        \n",
    "        #DC4 is the hand\n",
    "        power_expand_board.set_power(\"DC4\", -50)\n",
    "        time.sleep(0.5)\n",
    "        power_expand_board.stop(\"DC4\")\n",
    "        AutoAssets.MoveForward()\n",
    "        time.sleep(0.25)\n",
    "        power_expand_board.set_power(\"DC4\", 50)\n",
    "        time.sleep(0.25)\n",
    "\n",
    "        # LIFT THE CUBE  \n",
    "        power_expand_board.set_power(handdc1, -100)\n",
    "        power_expand_board.set_power(handdc2, -100)\n",
    "        time.sleep(2)\n",
    "\n",
    "        # WALK AWAY\n",
    "        AutoAssets.MoveBackward()\n",
    "        time.sleep(1)\n",
    "        AutoAssets.StopMoving()\n",
    "        time.sleep(0.25)\n",
    "\n",
    "        # RELEASE CUBE\n",
    "        power_expand_board.set_power(\"DC4\", -50)\n",
    "        time.sleep(1.5)\n",
    "\n",
    "        # RETURN MANUAL\n",
    "        Manual()\n",
    "        pass"
   ]
  },
  {
   "cell_type": "markdown",
   "metadata": {},
   "source": [
    "^^ **Old auto cube program**"
   ]
  },
  {
   "cell_type": "code",
   "execution_count": null,
   "metadata": {},
   "outputs": [],
   "source": [
    "    def GrabCubeRoutine():\n",
    "        global feeddc_front\n",
    "        dual_rgb_sensor_1.set_led_color(\"green\")\n",
    "        time.sleep(0.5)\n",
    "\n",
    "        power_expand_board.set_power(\"DC4\",-50)\n",
    "        time.sleep(0.7)\n",
    "        power_expand_board.set_power(\"DC4\",0)\n",
    "        power_expand_board.set_power(handdc1, -100)\n",
    "        power_expand_board.set_power(handdc2, -100)\n",
    "        smartservo_pitch.move(-90,50)\n",
    "        time.sleep(1.9)\n",
    "        power_expand_board.set_power(handdc1, 100)\n",
    "        power_expand_board.set_power(handdc2, 100)\n",
    "        time.sleep(0.9)\n",
    "        power_expand_board.stop(handdc1)\n",
    "        power_expand_board.stop(handdc2)\n",
    "\n",
    "        # TO THE CENTER\n",
    "        power_expand_board.set_power(feeddc_front,100)\n",
    "        AutoAssets.MoveForward()\n",
    "        time.sleep(0.26)\n",
    "        AutoAssets.RotateLeft()\n",
    "        time.sleep(0.25) #Rotate bot from the start\n",
    "        AutoAssets.MoveForward()\n",
    "        time.sleep(0.4452)\n",
    "        AutoAssets.RotateRight()\n",
    "        time.sleep(0.28)\n",
    "        AutoAssets.MoveForward()\n",
    "        time.sleep(1.6)\n",
    "\n",
    "        AutoAssets.StopMoving()\n",
    "\n",
    "        # TO THE CUBE!\n",
    "\n",
    "        #AutoAssets.MoveForward()\n",
    "        #time.sleep(2)\n",
    "        #AutoAssets.StopMoving()\n",
    "\n",
    "        # GRAB CUBE\n",
    "        power_expand_board.stop(feeddc_front)\n",
    "        AutoAssets.RotateLeft()\n",
    "        time.sleep(0.2)\n",
    "        AutoAssets.StopMoving()\n",
    "        power_expand_board.set_power(\"DC4\",50)\n",
    "        time.sleep(1)\n",
    "        power_expand_board.set_power(handdc1, -100)\n",
    "        power_expand_board.set_power(handdc2, -100)\n",
    "        time.sleep(0.9)\n",
    "        power_expand_board.stop(handdc1)\n",
    "        power_expand_board.stop(handdc2)\n",
    "        AutoAssets.MoveBackward()\n",
    "        time.sleep(1)\n",
    "        AutoAssets.StopMoving()\n",
    "\n",
    "        power_expand_board.set_power(\"DC4\",-50)\n",
    "        time.sleep(0.25)\n",
    "        power_expand_board.stop(\"DC4\")\n",
    "        pass\n"
   ]
  },
  {
   "cell_type": "markdown",
   "metadata": {},
   "source": [
    "^^ **New auto cube program**"
   ]
  }
 ],
 "metadata": {
  "kernelspec": {
   "display_name": "Python 3.10.8 64-bit (microsoft store)",
   "language": "python",
   "name": "python3"
  },
  "language_info": {
   "name": "python",
   "version": "3.10.8"
  },
  "orig_nbformat": 4,
  "vscode": {
   "interpreter": {
    "hash": "82cf7108cd554e615d03e337c492ced809a806d6b19e3bc1260804fd8f414a3c"
   }
  }
 },
 "nbformat": 4,
 "nbformat_minor": 2
}
